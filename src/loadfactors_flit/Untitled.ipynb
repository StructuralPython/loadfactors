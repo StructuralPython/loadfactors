{
 "cells": [
  {
   "cell_type": "code",
   "execution_count": 1,
   "id": "f8d1ce3e-f979-4cf2-9d67-d4d8f6dfdc5e",
   "metadata": {},
   "outputs": [],
   "source": [
    "import loadfactors_flit"
   ]
  },
  {
   "cell_type": "code",
   "execution_count": 2,
   "id": "fceb297a-1edf-4b7e-832e-c00d0a9a5500",
   "metadata": {},
   "outputs": [],
   "source": [
    "import loadfactors_setuptools\n"
   ]
  },
  {
   "cell_type": "code",
   "execution_count": 7,
   "id": "5e0ce0ad-6033-4492-90ca-12f118a0c96a",
   "metadata": {},
   "outputs": [
    {
     "ename": "AttributeError",
     "evalue": "module 'loadfactors_flit' has no attribute 'loadfactors'",
     "output_type": "error",
     "traceback": [
      "\u001b[1;31m---------------------------------------------------------------------------\u001b[0m",
      "\u001b[1;31mAttributeError\u001b[0m                            Traceback (most recent call last)",
      "Cell \u001b[1;32mIn[7], line 1\u001b[0m\n\u001b[1;32m----> 1\u001b[0m \u001b[43mloadfactors_flit\u001b[49m\u001b[38;5;241;43m.\u001b[39;49m\u001b[43mloadfactors\u001b[49m\u001b[38;5;241m.\u001b[39mfactored_max()\n",
      "\u001b[1;31mAttributeError\u001b[0m: module 'loadfactors_flit' has no attribute 'loadfactors'"
     ]
    }
   ],
   "source": [
    "loadfactors_flit."
   ]
  },
  {
   "cell_type": "code",
   "execution_count": null,
   "id": "c485648f-683a-4550-9bb0-d99bfc013b3f",
   "metadata": {},
   "outputs": [],
   "source": [
    "loadfactors_flit.loadfactors.factor"
   ]
  }
 ],
 "metadata": {
  "kernelspec": {
   "display_name": "loadfactors2",
   "language": "python",
   "name": "loadfactors2"
  },
  "language_info": {
   "codemirror_mode": {
    "name": "ipython",
    "version": 3
   },
   "file_extension": ".py",
   "mimetype": "text/x-python",
   "name": "python",
   "nbconvert_exporter": "python",
   "pygments_lexer": "ipython3",
   "version": "3.12.2"
  }
 },
 "nbformat": 4,
 "nbformat_minor": 5
}
